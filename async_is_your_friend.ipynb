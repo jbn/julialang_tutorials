{
 "cells": [
  {
   "cell_type": "markdown",
   "metadata": {},
   "source": [
    "`@async` is your friend\n",
    "==="
   ]
  },
  {
   "cell_type": "markdown",
   "metadata": {},
   "source": [
    "Example 1: Sleep Sort\n",
    "---\n",
    "The [sleep sort algorithm](http://www.hemingwayapp.com/) sorts an array of real values. Each value represents the amount of time to `sleep` before it can be `push!`ed onto the sorted array. It doesn't always work. It depends on how accurate and precise `sleep` is, and how the implementor parallelizes the `sleeps`. Consider an unsorted array containing 0.1 and 0.11, representing seconds. It is possible that 0.11 comes before 0.1 in the \"sorted\" array. Maybe the garbage collector ran; introduced some jitter; and, both sleeps woke up, simultanously. \n",
    "\n",
    "But, it's a fun and illustrative example. The following `sleep_sort` uses `@async`. I'll explain it after demonstrating that it works (in the sense of sleep sort). "
   ]
  },
  {
   "cell_type": "code",
   "execution_count": 1,
   "metadata": {
    "collapsed": false
   },
   "outputs": [
    {
     "data": {
      "text/plain": [
       "sleep_sort (generic function with 1 method)"
      ]
     },
     "execution_count": 1,
     "metadata": {},
     "output_type": "execute_result"
    }
   ],
   "source": [
    "function sleep_sort(items)\n",
    "    result = []\n",
    "    @sync for x in xs\n",
    "        @async begin\n",
    "            sleep(x)\n",
    "            push!(result, x)\n",
    "        end\n",
    "    end\n",
    "    result\n",
    "end"
   ]
  },
  {
   "cell_type": "code",
   "execution_count": 2,
   "metadata": {
    "collapsed": false
   },
   "outputs": [
    {
     "data": {
      "text/plain": [
       "1x5 Array{Int64,2}:\n",
       " 2  5  3  2  5"
      ]
     },
     "execution_count": 2,
     "metadata": {},
     "output_type": "execute_result"
    }
   ],
   "source": [
    "xs = rand(1:10, 5)' # Ignore the transpose. It's just for presentation."
   ]
  },
  {
   "cell_type": "code",
   "execution_count": 3,
   "metadata": {
    "collapsed": false
   },
   "outputs": [
    {
     "data": {
      "text/plain": [
       "1x5 Array{Any,2}:\n",
       " 2  2  3  5  5"
      ]
     },
     "execution_count": 3,
     "metadata": {},
     "output_type": "execute_result"
    }
   ],
   "source": [
    "sleep_sort(xs)' # Ignore the transpose. It's just for presentation."
   ]
  },
  {
   "cell_type": "markdown",
   "metadata": {},
   "source": [
    "You may assume that the `@async` macro created a thread or `forked()` a process. It didn't. Only one process executed each `@async`d block -- the main one. The `@async` block and the main process form a cooperative agreement. When the `@async` block has something to do, it can. But, if it's waiting for things to happen, it gives control back to the main process. \n",
    "\n",
    "In this example, `sleep()`ing is \"doing nothing.\" When it wakes up, it has something to do. "
   ]
  },
  {
   "cell_type": "markdown",
   "metadata": {},
   "source": [
    "Example 2: Fetching IP Addresses\n",
    "---\n",
    "\n",
    "Let's say your doing a study on where (geographically) major websites locate their servers. To do so, you need to grab their IP addresses.[1] In this example, I grab the top 100, according to an [Alexa](http://www.alexa.com/) snapshot. For each domain, I call `getaddrinfo`. As [the manual warns](http://julia.readthedocs.org/en/latest/stdlib/io-network/#Base.getaddrinfo), this may require a DNS lookup. This matters because that can be a relatively slow operation. But, it's also a blocking one. That is, it can signal when it is just waiting around."
   ]
  },
  {
   "cell_type": "code",
   "execution_count": 5,
   "metadata": {
    "collapsed": false
   },
   "outputs": [],
   "source": [
    "# Remove the following error if you want to run this notebook yourself. Your \n",
    "# employer probably frowns upon DNS requests to `xhamster.com`.\n",
    "error(\"!NSFW Gaurd!\")\n",
    "\n",
    "top_100 = [\n",
    "    \"google.com\", \"facebook.com\", \"youtube.com\", \"baidu.com\", \n",
    "    \"yahoo.com\", \"amazon.com\", \"wikipedia.org\", \"qq.com\", \n",
    "    \"twitter.com\", \"google.co.in\", \"live.com\", \"taobao.com\", \n",
    "    \"sina.com.cn\", \"linkedin.com\", \"yahoo.co.jp\", \"weibo.com\", \n",
    "    \"ebay.com\", \"google.co.jp\", \"yandex.ru\", \"vk.com\", \n",
    "    \"hao123.com\", \"blogspot.com\", \"t.co\", \"bing.com\", \n",
    "    \"google.de\", \"instagram.com\", \"aliexpress.com\", \n",
    "    \"msn.com\", \"amazon.co.jp\", \"google.co.uk\", \"reddit.com\", \n",
    "    \"ask.com\", \"pinterest.com\", \"google.com.br\", \"google.fr\", \n",
    "    \"wordpress.com\", \"tmall.com\", \"onclickads.net\", \"paypal.com\", \n",
    "    \"mail.ru\", \"microsoft.com\", \"sohu.com\", \"tumblr.com\", \n",
    "    \"imgur.com\", \"google.ru\", \"xvideos.com\", \"imdb.com\", \n",
    "    \"apple.com\", \"google.it\", \"fc2.com\", \"google.es\", \n",
    "    \"googleadservices.com\", \"netflix.com\", \"amazon.de\", \n",
    "    \"360.cn\", \"stackoverflow.com\", \"tianya.cn\", \"craigslist.org\", \n",
    "    \"alibaba.com\", \"ok.ru\", \"google.com.mx\", \"google.ca\", \n",
    "    \"gmw.cn\", \"google.com.hk\", \"pornhub.com\", \"naver.com\", \n",
    "    \"diply.com\", \"amazon.co.uk\", \"rakuten.co.jp\", \"go.com\", \n",
    "    \"xhamster.com\", \"blogger.com\", \"kat.cr\", \"outbrain.com\", \n",
    "    \"cnn.com\", \"adcash.com\", \"soso.com\", \"google.com.tr\", \n",
    "    \"nicovideo.jp\", \"xinhuanet.com\", \"amazon.in\", \n",
    "    \"flipkart.com\", \"cntv.cn\", \"google.co.id\", \"booking.com\", \n",
    "    \"people.com.cn\", \"bbc.co.uk\", \"github.com\", \n",
    "    \"googleusercontent.com\", \"pixnet.net\", \"google.com.au\", \n",
    "    \"dropbox.com\", \"google.co.kr\", \"espn.go.com\", \"google.pl\",\n",
    "    \"ebay.de\", \"popads.net\", \"dailymotion.com\", \"livedoor.jp\", \n",
    "    \"ebay.co.uk\"\n",
    "];"
   ]
  },
  {
   "cell_type": "markdown",
   "metadata": {},
   "source": [
    "### Serial Version\n"
   ]
  },
  {
   "cell_type": "code",
   "execution_count": 6,
   "metadata": {
    "collapsed": false
   },
   "outputs": [
    {
     "data": {
      "text/plain": [
       "async_version (generic function with 1 method)"
      ]
     },
     "execution_count": 6,
     "metadata": {},
     "output_type": "execute_result"
    }
   ],
   "source": [
    "fetch_ip(domain) = try getaddrinfo(domain) catch ip\"0.0.0.0\" end\n",
    "\n",
    "function serial_version(domains)\n",
    "    domain_to_ip = Dict{String, IPv4}()\n",
    "    for domain in domains\n",
    "        domain_to_ip[domain] = fetch_ip(domain)\n",
    "    end\n",
    "    domain_to_ip\n",
    "end\n",
    "\n",
    "function async_version(domains)\n",
    "    domain_to_ip = Dict{String, IPv4}()\n",
    "    @sync for domain in domains\n",
    "        @async domain_to_ip[domain] = fetch_ip(domain)\n",
    "    end\n",
    "    domain_to_ip\n",
    "end"
   ]
  },
  {
   "cell_type": "markdown",
   "metadata": {},
   "source": [
    "The following code just helps level the playing field. I call both functions with an empty array to make sure compilation expense isn't part of `@time`. Then, I call `async_version` with the top_100, without timing it. This is to warm up the relevant DNS caches on my computer and router. Otherwise, the first called function would have an inherent disadvantage with respect to time. "
   ]
  },
  {
   "cell_type": "code",
   "execution_count": 7,
   "metadata": {
    "collapsed": true
   },
   "outputs": [],
   "source": [
    "serial_version([]); async_version([]); async_version(top_100);"
   ]
  },
  {
   "cell_type": "markdown",
   "metadata": {},
   "source": [
    "Now, the `@time`ings."
   ]
  },
  {
   "cell_type": "code",
   "execution_count": 14,
   "metadata": {
    "collapsed": false
   },
   "outputs": [
    {
     "name": "stdout",
     "output_type": "stream",
     "text": [
      "  0.033475 seconds (2.51 k allocations: 246.438 KB)\n"
     ]
    }
   ],
   "source": [
    "@time async_version(top_100);"
   ]
  },
  {
   "cell_type": "code",
   "execution_count": 15,
   "metadata": {
    "collapsed": false
   },
   "outputs": [
    {
     "name": "stdout",
     "output_type": "stream",
     "text": [
      "  0.851270 seconds (1.29 k allocations: 42.344 KB)\n"
     ]
    }
   ],
   "source": [
    "@time serial_version(top_100);"
   ]
  },
  {
   "cell_type": "markdown",
   "metadata": {},
   "source": [
    "The `@async`-based function is much faster. It doesn't have to wait for a slow request to finish before starting the next request. In the async case, the the total run time should be a little more than that of the slowest `getaddrinfo` call. For the serial version, the run time is the sum of all calls. "
   ]
  },
  {
   "cell_type": "markdown",
   "metadata": {},
   "source": [
    "Why Should You Care?\n",
    "---\n",
    "If you haven't already, you should peruse the manual on parallel processing. Async is useful in a lot of cases. For data scientists, it's often used for feeding tasks to different processes. But, comparatively, it's a more impressive solution for parallelizing operations bound by IO. As the manual points out, the underlying IO calls are asynchronous. They are just presented synchronously for convenience. Wrapping those operations via `@async` makes it work asynchronously, again. If you are writing something like a server or a web-scraper this is useful. Here, \"an event-driven, non-blocking I/O model [is] lightweight and efficient.\"[2]"
   ]
  },
  {
   "cell_type": "markdown",
   "metadata": {},
   "source": [
    "#### Footnotes\n",
    "\n",
    "1. Actually, you have to do way more than this. Major sites are multi-homed. And, they are probably geographically dispersed, too. Take this example with a grain of salt.\n",
    "2. Yes, I'm just straight up quoting [Node.js](https://nodejs.org/en/)."
   ]
  }
 ],
 "metadata": {
  "kernelspec": {
   "display_name": "Julia 0.4.0-rc1",
   "language": "julia",
   "name": "julia-0.4"
  },
  "language_info": {
   "file_extension": ".jl",
   "mimetype": "application/julia",
   "name": "julia",
   "version": "0.4.0"
  },
  "noteboxed": {
   "title": "Async is your friend"
  }
 },
 "nbformat": 4,
 "nbformat_minor": 0
}
